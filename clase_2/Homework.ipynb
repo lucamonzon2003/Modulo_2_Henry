{
 "cells": [
  {
   "cell_type": "markdown",
   "metadata": {},
   "source": [
    "![HenryLogo](https://d31uz8lwfmyn8g.cloudfront.net/Assets/logo-henry-white-lg.png)\n",
    "\n",
    "## Homework\n",
    "\n",
    "Utilizando Python cálcular las siguientes probabilidades. Para cada uno intenta determinar que método aplicaste.<br>"
   ]
  },
  {
   "cell_type": "markdown",
   "metadata": {},
   "source": [
    "1. Lanza una moneda al aire 10 veces, ¿cuantos resultados posibles forman parte del espacio muestral?."
   ]
  },
  {
   "cell_type": "code",
   "execution_count": 67,
   "metadata": {},
   "outputs": [
    {
     "name": "stdout",
     "output_type": "stream",
     "text": [
      "Los resultados posibles son: 1024\n"
     ]
    }
   ],
   "source": [
    "nro_tiros = 10\n",
    "resultados = 2 ** nro_tiros\n",
    "print(\"Los resultados posibles son:\", resultados)"
   ]
  },
  {
   "cell_type": "markdown",
   "metadata": {},
   "source": [
    "2. En un aeropuerto se tiene a 10 pasajeros esperando en la sala de preembarque, la polícia debe controlar a 3 de ellos. ¿Cuantas combinaciones posibles se pueden obtener?."
   ]
  },
  {
   "cell_type": "code",
   "execution_count": 68,
   "metadata": {},
   "outputs": [],
   "source": [
    "import math"
   ]
  },
  {
   "cell_type": "code",
   "execution_count": 69,
   "metadata": {},
   "outputs": [
    {
     "data": {
      "text/plain": [
       "120.0"
      ]
     },
     "execution_count": 69,
     "metadata": {},
     "output_type": "execute_result"
    }
   ],
   "source": [
    "pasajeros = 10\n",
    "control = 3\n",
    "res = math.factorial(pasajeros) / (math.factorial(pasajeros - control) * math.factorial(control))\n",
    "res #defino los parametros y uso la formula de combinaciones"
   ]
  },
  {
   "cell_type": "markdown",
   "metadata": {},
   "source": [
    "3. La Agencia Nacional de Seguridad Vial realizó una investigación para saber si los conductores de están usando sus cinturones de seguridad. Los datos muestrales fueron los siguientes:<br>\n",
    "Conductores que emplean el cinturón <br>\n",
    "\n",
    "![Ejercicio](../_src/assets/ejercicio3.PNG)\n",
    "\n",
    "- a) ¿Qué metodo cree que se utilizo para asignar probabilidades?.\n",
    "- b) Construya un cuadro similar, pero con la asignación de probabilidades.\n",
    "- c) ¿Cuál sería el mejor método pára estimar la probabilidad de que en Estados Unidos un conductor lleve puesto el cinturón?.\n",
    "- d) Un año antes, la probabilidad en Argentina de que un conductor llevara puesto el cinturón era 0.75. El director de ANSV, se esperaba que la probabilidad llegara a 0.78. ¿Estará satisfecho con los resultados del estudio? (Utilizar tabla adjunta \n",
    "\n",
    "![Ejercicio](../_src/assets/ejercicio3.PNG)\n",
    "\n",
    "- e) ¿Cuál es la probabilidad de que se use el cinturón en las distintas regiones del país? ¿En qué región se usa más el cinturón?(Utilizar misma tabla que el ejercicio anterior)."
   ]
  },
  {
   "cell_type": "code",
   "execution_count": 70,
   "metadata": {},
   "outputs": [],
   "source": [
    "# Se usó el método frecuentista"
   ]
  },
  {
   "cell_type": "code",
   "execution_count": 71,
   "metadata": {},
   "outputs": [
    {
     "name": "stdout",
     "output_type": "stream",
     "text": [
      "la probabilidad de que un conductor llevara cinturòn es de: 0.7900552486187845, por lo tanto si\n",
      "se usa mas el cinturon en la region del centro\n"
     ]
    }
   ],
   "source": [
    "import pandas as pd\n",
    "\n",
    "regiones = [\"Norte\", \"Noreste\", \"Sur\", \"Centro\"]\n",
    "valores_si_no = [[148, 162, 296, 252], [52, 54, 74, 48]] #valores\n",
    "\n",
    "valores = dict(Si = valores_si_no[0], No = valores_si_no[1])\n",
    "cuadro = pd.DataFrame(valores, index= regiones) #creo un diccionario con los valores y lo pongo en un dataframe\n",
    "\n",
    "total_si_no = cuadro.sum()\n",
    "total = total_si_no.iloc[0] + total_si_no.iloc[1]\n",
    "cuadro_prob = round(cuadro / total, 3) * 100 #sumo todos los valores de Si y No, Sumo entre si los valores y divido el cada valor por el total de datos para despues multiplicar por 100\n",
    "\n",
    "prob = total_si_no.Si / total\n",
    "print(\"la probabilidad de que un conductor llevara cinturòn es de: \"+ str(prob) + \", por lo tanto si\") #divido todos los valores de Si por el total de todo los valores\n",
    "\n",
    "valores_reg = cuadro.Si + cuadro.No\n",
    "prob_reg = cuadro.div(valores_reg, axis= 0)\n",
    "prob_reg \n",
    "print(\"se usa mas el cinturon en la region del centro\") #sumo todos los valores por regiones y divido cada uno por el total de valores por region\n"
   ]
  },
  {
   "cell_type": "markdown",
   "metadata": {},
   "source": [
    "4. Crear una funcion que permita calcular a probabilidad de los siguientes eventos en un baraja de 52 cartas.<br>\n",
    "- Obtener una carta roja.<br>\n",
    "- Obtener una carta negra.<br>\n",
    "- Obtener una pica.<br>\n",
    "- Obtener un trébol.<br>\n",
    "- Obtener un corazón.<br>\n",
    "- Obtener un diamante.<br>\n",
    "5. La probabilidad de que salga un 7 o un 8 al seleccionar una carta de una baraja de las 52 cartas que contiene el mazo. <br>\n",
    "6. La probabilidad de tu país gane el mundial de fútbol.<br>\n",
    "7. Un experimento que tiene tres resultados es repetido 50 veces y se ve que E1 aparece 20 veces, E2 13 veces y E3 17 veces. Asigne probabilidades a los resultados.<br>"
   ]
  },
  {
   "cell_type": "code",
   "execution_count": 72,
   "metadata": {},
   "outputs": [],
   "source": [
    "def probabilidadNaipes(evento):\n",
    "    cartas = 52\n",
    "    cartasColor = 26\n",
    "    cartasCategoria = 13\n",
    "    if evento == \"roja\" or evento == \"negra\":\n",
    "        return cartasColor / cartas\n",
    "    elif evento in (\"pica\", \"diamante\", \"trebol\", \"corazon\"):\n",
    "        return cartasCategoria / cartas\n",
    "    else:\n",
    "        return 0 #funcion que divide el evento por la cantidad total de las cartas"
   ]
  },
  {
   "cell_type": "code",
   "execution_count": 73,
   "metadata": {},
   "outputs": [
    {
     "name": "stdout",
     "output_type": "stream",
     "text": [
      "la probabilidad es 0.15384615384615385\n"
     ]
    }
   ],
   "source": [
    "print(\"la probabilidad es de: \" + str(8 / 52))"
   ]
  },
  {
   "cell_type": "code",
   "execution_count": 76,
   "metadata": {},
   "outputs": [
    {
     "name": "stdout",
     "output_type": "stream",
     "text": [
      "la probabilidad es de: 0.020833333333333332\n"
     ]
    }
   ],
   "source": [
    "print(\"la probabilidad es de: \" + str(1 / 48))"
   ]
  },
  {
   "cell_type": "code",
   "execution_count": 75,
   "metadata": {},
   "outputs": [
    {
     "name": "stdout",
     "output_type": "stream",
     "text": [
      "las probabiliades para E1, E2 y E3 son de:0.4 0.26 0.34\n"
     ]
    }
   ],
   "source": [
    "E1 = 20/50\n",
    "E2 = 13/50\n",
    "E3 = 17/50\n",
    "\n",
    "print(\"las probabiliades para E1, E2 y E3 son de:\" + str(E1), str(E2), str(E3))"
   ]
  },
  {
   "cell_type": "markdown",
   "metadata": {},
   "source": [
    "## Desafíos complementarios \n",
    "\n",
    "### Investiga e intenta resolver los siguientes ejercicios\n",
    "\n",
    "1. Si la probabilidad de que un cliente pague en efectivo (E) es 6/15, con tarjeta de crédito (TD) es 7/15 y con tarjeta de débito (TD) es 2/15. Hallar la probabilidad de que dos clientes sucesivos que pagan sus cuentas lo hagan:<br>\n",
    " a) el primero en efectivo y el segundo con tarjeta de crédito.<br>\n",
    " b) Los dos clientes en efectivo<br>"
   ]
  },
  {
   "cell_type": "markdown",
   "metadata": {},
   "source": [
    "2. La probabilidad de que un Henry repruebe el M1 de 0.8, de que apruebe M2 es 0.5 y de que repruebe el M3 es de 0.4.<br>\n",
    " (Los eventos no interfieren entre si) <br>\n",
    "\n",
    "![Tabla](../_src/assets/probhenry.PNG)\n",
    "\n",
    "Determinar la probabilidad de que:<br>\n",
    " a) Apruebe un módulo.<br>\n",
    " b) Repruebe las tres materias."
   ]
  }
 ],
 "metadata": {
  "kernelspec": {
   "display_name": "Python 3",
   "language": "python",
   "name": "python3"
  },
  "language_info": {
   "codemirror_mode": {
    "name": "ipython",
    "version": 3
   },
   "file_extension": ".py",
   "mimetype": "text/x-python",
   "name": "python",
   "nbconvert_exporter": "python",
   "pygments_lexer": "ipython3",
   "version": "3.10.11"
  }
 },
 "nbformat": 4,
 "nbformat_minor": 2
}
